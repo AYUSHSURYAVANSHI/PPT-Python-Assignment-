{
 "cells": [
  {
   "cell_type": "code",
   "execution_count": 2,
   "metadata": {},
   "outputs": [
    {
     "name": "stdout",
     "output_type": "stream",
     "text": [
      "!dlroW ,olleH\n"
     ]
    }
   ],
   "source": [
    "# 1. Write a Python program to reverse a string without using any built-in string reversal functions.\n",
    "# Answer :-\n",
    "#  Python program that reverses a string without using any built-in string reversal functions:\n",
    "def reverse_string(input_string):\n",
    "    reversed_string = \"\"\n",
    "    for i in range(len(input_string) - 1, -1, -1):\n",
    "        reversed_string += input_string[i]\n",
    "    return reversed_string\n",
    "\n",
    "# Example usage\n",
    "string_to_reverse = \"Hello, World!\"\n",
    "reversed_string = reverse_string(string_to_reverse)\n",
    "print(reversed_string)\n"
   ]
  },
  {
   "cell_type": "code",
   "execution_count": 3,
   "metadata": {},
   "outputs": [
    {
     "name": "stdout",
     "output_type": "stream",
     "text": [
      "The string is a palindrome.\n"
     ]
    }
   ],
   "source": [
    "# 2. Implement a function to check if a given string is a palindrome.\n",
    "# Answer :-\n",
    "def is_palindrome(input_string):\n",
    "    # Remove non-alphanumeric characters and convert to lowercase\n",
    "    input_string = ''.join(e for e in input_string if e.isalnum()).lower()\n",
    "    \n",
    "    # Check if the string is equal to its reverse\n",
    "    return input_string == input_string[::-1]\n",
    "\n",
    "# Example usage\n",
    "string_to_check = \"Able was I saw eLba\"\n",
    "if is_palindrome(string_to_check):\n",
    "    print(\"The string is a palindrome.\")\n",
    "else:\n",
    "    print(\"The string is not a palindrome.\")\n"
   ]
  },
  {
   "cell_type": "code",
   "execution_count": 4,
   "metadata": {},
   "outputs": [
    {
     "name": "stdout",
     "output_type": "stream",
     "text": [
      "The largest number is: 78\n"
     ]
    }
   ],
   "source": [
    "# 3. Write a program to find the largest element in a given list.\n",
    "# Answer :-\n",
    "def find_largest_element(lst):\n",
    "    if len(lst) == 0:\n",
    "        return None  # Return None if the list is empty\n",
    "    \n",
    "    largest = lst[0]  # Assume the first element is the largest\n",
    "    \n",
    "    for num in lst:\n",
    "        if num > largest:\n",
    "            largest = num\n",
    "    \n",
    "    return largest\n",
    "\n",
    "# Example usage\n",
    "numbers = [12, 45, 78, 23, 56, 34]\n",
    "largest_number = find_largest_element(numbers)\n",
    "print(\"The largest number is:\", largest_number)\n"
   ]
  },
  {
   "cell_type": "code",
   "execution_count": 5,
   "metadata": {},
   "outputs": [
    {
     "name": "stdout",
     "output_type": "stream",
     "text": [
      "1 occurs 3 times.\n",
      "2 occurs 3 times.\n",
      "3 occurs 2 times.\n",
      "4 occurs 3 times.\n",
      "5 occurs 1 times.\n"
     ]
    }
   ],
   "source": [
    "# 4. Implement a function to count the occurrence of each element in a list.\n",
    "# Answer :-\n",
    "def count_occurrences(lst):\n",
    "    occurrence_count = {}\n",
    "\n",
    "    for element in lst:\n",
    "        if element in occurrence_count:\n",
    "            occurrence_count[element] += 1\n",
    "        else:\n",
    "            occurrence_count[element] = 1\n",
    "\n",
    "    return occurrence_count\n",
    "\n",
    "# Example usage\n",
    "numbers = [1, 2, 3, 2, 4, 1, 5, 2, 3, 1, 4, 4]\n",
    "occurrence_dict = count_occurrences(numbers)\n",
    "\n",
    "# Print the occurrence count for each element\n",
    "for element, count in occurrence_dict.items():\n",
    "    print(f\"{element} occurs {count} times.\")\n"
   ]
  },
  {
   "cell_type": "code",
   "execution_count": 6,
   "metadata": {},
   "outputs": [
    {
     "name": "stdout",
     "output_type": "stream",
     "text": [
      "The second largest number is: 56\n"
     ]
    }
   ],
   "source": [
    "# 5. Write a Python program to find the second largest number in a list.\n",
    "# Answer :-\n",
    "def find_second_largest(lst):\n",
    "    if len(lst) < 2:\n",
    "        return None  # Return None if the list has less than two elements\n",
    "\n",
    "    largest = max(lst[0], lst[1])  # Assume the first two elements are the largest and second largest\n",
    "    second_largest = min(lst[0], lst[1])\n",
    "\n",
    "    for num in lst[2:]:\n",
    "        if num > largest:\n",
    "            second_largest = largest\n",
    "            largest = num\n",
    "        elif num > second_largest:\n",
    "            second_largest = num\n",
    "\n",
    "    return second_largest\n",
    "\n",
    "# Example usage\n",
    "numbers = [12, 45, 78, 23, 56, 34]\n",
    "second_largest_number = find_second_largest(numbers)\n",
    "\n",
    "if second_largest_number is not None:\n",
    "    print(\"The second largest number is:\", second_largest_number)\n",
    "else:\n",
    "    print(\"There is no second largest number.\")\n"
   ]
  },
  {
   "cell_type": "code",
   "execution_count": 7,
   "metadata": {},
   "outputs": [
    {
     "name": "stdout",
     "output_type": "stream",
     "text": [
      "[1, 2, 3, 4, 5]\n"
     ]
    }
   ],
   "source": [
    "# 6. Implement a function to remove duplicate elements from a list.\n",
    "# Answer :-\n",
    "def remove_duplicates(lst):\n",
    "    return list(set(lst))\n",
    "\n",
    "# Example usage\n",
    "numbers = [1, 2, 3, 2, 4, 1, 5, 2, 3, 1, 4, 4]\n",
    "unique_numbers = remove_duplicates(numbers)\n",
    "print(unique_numbers)\n"
   ]
  },
  {
   "cell_type": "code",
   "execution_count": 8,
   "metadata": {},
   "outputs": [
    {
     "name": "stdout",
     "output_type": "stream",
     "text": [
      "The factorial of 5 is: 120\n"
     ]
    }
   ],
   "source": [
    "# 7. Write a program to calculate the factorial of a given number.\n",
    "# Answer :-\n",
    "def factorial(n):\n",
    "    if n < 0:\n",
    "        return None  # Factorial is not defined for negative numbers\n",
    "    elif n == 0:\n",
    "        return 1  # Factorial of 0 is 1\n",
    "    else:\n",
    "        result = 1\n",
    "        for i in range(1, n + 1):\n",
    "            result *= i\n",
    "        return result\n",
    "\n",
    "# Example usage\n",
    "number = 5\n",
    "factorial_result = factorial(number)\n",
    "print(\"The factorial of\", number, \"is:\", factorial_result)\n"
   ]
  },
  {
   "cell_type": "code",
   "execution_count": 9,
   "metadata": {},
   "outputs": [
    {
     "name": "stdout",
     "output_type": "stream",
     "text": [
      "17 is a prime number.\n"
     ]
    }
   ],
   "source": [
    "# 8. Implement a function to check if a given number is prime.\n",
    "# Answer :-\n",
    "def is_prime(number):\n",
    "    if number <= 1:\n",
    "        return False  # Numbers less than or equal to 1 are not prime\n",
    "\n",
    "    # Check divisibility up to the square root of the number\n",
    "    for i in range(2, int(number ** 0.5) + 1):\n",
    "        if number % i == 0:\n",
    "            return False\n",
    "\n",
    "    return True\n",
    "\n",
    "# Example usage\n",
    "number = 17\n",
    "if is_prime(number):\n",
    "    print(number, \"is a prime number.\")\n",
    "else:\n",
    "    print(number, \"is not a prime number.\")\n"
   ]
  },
  {
   "cell_type": "code",
   "execution_count": 10,
   "metadata": {},
   "outputs": [
    {
     "name": "stdout",
     "output_type": "stream",
     "text": [
      "17 is a prime number.\n"
     ]
    }
   ],
   "source": [
    "# 9. Write a Python program to sort a list of integers in ascending order.\n",
    "# Answer :-\n",
    "def is_prime(number):\n",
    "    if number <= 1:\n",
    "        return False  # Numbers less than or equal to 1 are not prime\n",
    "\n",
    "    # Check divisibility up to the square root of the number\n",
    "    for i in range(2, int(number ** 0.5) + 1):\n",
    "        if number % i == 0:\n",
    "            return False\n",
    "\n",
    "    return True\n",
    "\n",
    "# Example usage\n",
    "number = 17\n",
    "if is_prime(number):\n",
    "    print(number, \"is a prime number.\")\n",
    "else:\n",
    "    print(number, \"is not a prime number.\")\n"
   ]
  },
  {
   "cell_type": "code",
   "execution_count": 11,
   "metadata": {},
   "outputs": [
    {
     "name": "stdout",
     "output_type": "stream",
     "text": [
      "Sorted list: [1, 2, 3, 4, 5, 6, 7, 8, 9]\n"
     ]
    }
   ],
   "source": [
    "# 9. Write a Python program to sort a list of integers in ascending order.\n",
    "# Answer :-\n",
    "def sort_list_ascending(lst):\n",
    "    sorted_list = sorted(lst)\n",
    "    return sorted_list\n",
    "\n",
    "# Example usage\n",
    "numbers = [9, 5, 7, 2, 1, 8, 3, 6, 4]\n",
    "sorted_numbers = sort_list_ascending(numbers)\n",
    "print(\"Sorted list:\", sorted_numbers)\n"
   ]
  },
  {
   "cell_type": "code",
   "execution_count": 12,
   "metadata": {},
   "outputs": [
    {
     "name": "stdout",
     "output_type": "stream",
     "text": [
      "The sum of the numbers is: 15\n"
     ]
    }
   ],
   "source": [
    "# 10. Implement a function to find the sum of all numbers in a list.\n",
    "# Answer :-\n",
    "def calculate_sum(lst):\n",
    "    total_sum = sum(lst)\n",
    "    return total_sum\n",
    "\n",
    "# Example usage\n",
    "numbers = [1, 2, 3, 4, 5]\n",
    "sum_of_numbers = calculate_sum(numbers)\n",
    "print(\"The sum of the numbers is:\", sum_of_numbers)\n"
   ]
  },
  {
   "cell_type": "code",
   "execution_count": 13,
   "metadata": {},
   "outputs": [
    {
     "name": "stdout",
     "output_type": "stream",
     "text": [
      "Common elements: [4, 5]\n"
     ]
    }
   ],
   "source": [
    "# 11. Write a program to find the common elements between two lists.\n",
    "# Answer :-\n",
    "def find_common_elements(list1, list2):\n",
    "    common_elements = list(set(list1) & set(list2))\n",
    "    return common_elements\n",
    "\n",
    "# Example usage\n",
    "list1 = [1, 2, 3, 4, 5]\n",
    "list2 = [4, 5, 6, 7, 8]\n",
    "common_elements = find_common_elements(list1, list2)\n",
    "print(\"Common elements:\", common_elements)\n"
   ]
  },
  {
   "cell_type": "code",
   "execution_count": 14,
   "metadata": {},
   "outputs": [
    {
     "name": "stdout",
     "output_type": "stream",
     "text": [
      "listen and silent are anagrams.\n"
     ]
    }
   ],
   "source": [
    "# 12. Implement a function to check if a given string is an anagram of another string.\n",
    "# Answer :-\n",
    "def is_anagram(str1, str2):\n",
    "    # Remove whitespace and convert to lowercase for case-insensitive comparison\n",
    "    str1 = str1.replace(\" \", \"\").lower()\n",
    "    str2 = str2.replace(\" \", \"\").lower()\n",
    "\n",
    "    if len(str1) != len(str2):\n",
    "        return False  # Anagrams must have the same length\n",
    "\n",
    "    # Create dictionaries to store character counts\n",
    "    char_count1 = {}\n",
    "    char_count2 = {}\n",
    "\n",
    "    # Count characters in str1\n",
    "    for char in str1:\n",
    "        if char in char_count1:\n",
    "            char_count1[char] += 1\n",
    "        else:\n",
    "            char_count1[char] = 1\n",
    "\n",
    "    # Count characters in str2\n",
    "    for char in str2:\n",
    "        if char in char_count2:\n",
    "            char_count2[char] += 1\n",
    "        else:\n",
    "            char_count2[char] = 1\n",
    "\n",
    "    return char_count1 == char_count2\n",
    "\n",
    "# Example usage\n",
    "string1 = \"listen\"\n",
    "string2 = \"silent\"\n",
    "if is_anagram(string1, string2):\n",
    "    print(string1, \"and\", string2, \"are anagrams.\")\n",
    "else:\n",
    "    print(string1, \"and\", string2, \"are not anagrams.\")\n"
   ]
  },
  {
   "cell_type": "code",
   "execution_count": 15,
   "metadata": {},
   "outputs": [
    {
     "name": "stdout",
     "output_type": "stream",
     "text": [
      "Permutations of abc : ['abc', 'acb', 'bac', 'bca', 'cab', 'cba']\n"
     ]
    }
   ],
   "source": [
    "# 13. Write a Python program to generate all permutations of a given string.\n",
    "# Answer :-\n",
    "from itertools import permutations\n",
    "\n",
    "def generate_permutations(string):\n",
    "    # Generate permutations using itertools.permutations\n",
    "    perms = permutations(string)\n",
    "\n",
    "    # Convert each permutation tuple to a string and join them\n",
    "    result = [''.join(perm) for perm in perms]\n",
    "\n",
    "    return result\n",
    "\n",
    "# Example usage\n",
    "input_string = \"abc\"\n",
    "permutations_list = generate_permutations(input_string)\n",
    "print(\"Permutations of\", input_string, \":\", permutations_list)\n"
   ]
  },
  {
   "cell_type": "code",
   "execution_count": 17,
   "metadata": {},
   "outputs": [
    {
     "name": "stdout",
     "output_type": "stream",
     "text": [
      "Fibonacci sequence up to 10 terms: [0, 1, 1, 2, 3, 5, 8, 13, 21, 34]\n"
     ]
    }
   ],
   "source": [
    "# 14. Implement a function to calculate the Fibonacci sequence up to a given number of terms.\n",
    "# Answer :-\n",
    "def fibonacci_sequence(n):\n",
    "    sequence = []\n",
    "    a, b = 0, 1\n",
    "\n",
    "    if n >= 1:\n",
    "        sequence.append(a)\n",
    "\n",
    "    if n >= 2:\n",
    "        sequence.append(b)\n",
    "\n",
    "    for _ in range(2, n):\n",
    "        next_term = a + b\n",
    "        sequence.append(next_term)\n",
    "        a, b = b, next_term\n",
    "\n",
    "    return sequence\n",
    "\n",
    "# Example usage\n",
    "num_terms = 10\n",
    "fib_sequence = fibonacci_sequence(num_terms)\n",
    "print(\"Fibonacci sequence up to\", num_terms, \"terms:\", fib_sequence)\n",
    "\n"
   ]
  },
  {
   "cell_type": "code",
   "execution_count": 20,
   "metadata": {},
   "outputs": [
    {
     "name": "stdout",
     "output_type": "stream",
     "text": [
      "Median of the list: 4\n"
     ]
    }
   ],
   "source": [
    "# 15. Write a program to find the median of a list of numbers.\n",
    "# Answer :-\n",
    "def find_median(numbers):\n",
    "    sorted_numbers = sorted(numbers)\n",
    "    length = len(sorted_numbers)\n",
    "    \n",
    "    if length % 2 == 0:\n",
    "        mid1 = length // 2\n",
    "        mid2 = mid1 - 1\n",
    "        median = (sorted_numbers[mid1] + sorted_numbers[mid2]) / 2\n",
    "    else:\n",
    "        mid = length // 2\n",
    "        median = sorted_numbers[mid]\n",
    "    \n",
    "    return median\n",
    "\n",
    "# Example usage\n",
    "number_list = [7, 3, 1, 4, 2, 6, 5]\n",
    "median = find_median(number_list)\n",
    "print(\"Median of the list:\", median)\n"
   ]
  },
  {
   "cell_type": "code",
   "execution_count": 21,
   "metadata": {},
   "outputs": [
    {
     "name": "stdout",
     "output_type": "stream",
     "text": [
      "The list is sorted in non-decreasing order.\n"
     ]
    }
   ],
   "source": [
    "# 16. Implement a function to check if a given list is sorted in non-decreasing order.\n",
    "# Answer :-\n",
    "def is_sorted(lst):\n",
    "    for i in range(1, len(lst)):\n",
    "        if lst[i] < lst[i - 1]:\n",
    "            return False\n",
    "    return True\n",
    "\n",
    "# Example usage\n",
    "numbers = [1, 2, 3, 4, 5]\n",
    "if is_sorted(numbers):\n",
    "    print(\"The list is sorted in non-decreasing order.\")\n",
    "else:\n",
    "    print(\"The list is not sorted in non-decreasing order.\")\n",
    "\n"
   ]
  },
  {
   "cell_type": "code",
   "execution_count": 22,
   "metadata": {},
   "outputs": [
    {
     "name": "stdout",
     "output_type": "stream",
     "text": [
      "Intersection of the lists: [4, 5]\n"
     ]
    }
   ],
   "source": [
    "# 17. Write a Python program to find the intersection of two lists.\n",
    "# Answer :-\n",
    "def find_intersection(list1, list2):\n",
    "    intersection = list(set(list1) & set(list2))\n",
    "    return intersection\n",
    "\n",
    "# Example usage\n",
    "list1 = [1, 2, 3, 4, 5]\n",
    "list2 = [4, 5, 6, 7, 8]\n",
    "intersection_list = find_intersection(list1, list2)\n",
    "print(\"Intersection of the lists:\", intersection_list)\n",
    "\n"
   ]
  },
  {
   "cell_type": "code",
   "execution_count": 23,
   "metadata": {},
   "outputs": [
    {
     "name": "stdout",
     "output_type": "stream",
     "text": [
      "Maximum subarray sum: 6\n"
     ]
    }
   ],
   "source": [
    "# 18. Implement a function to find the maximum subarray sum in a given list.\n",
    "# Answer :-\n",
    "def find_max_subarray_sum(arr):\n",
    "    max_sum = float('-inf')\n",
    "    current_sum = 0\n",
    "\n",
    "    for num in arr:\n",
    "        current_sum = max(num, current_sum + num)\n",
    "        max_sum = max(max_sum, current_sum)\n",
    "\n",
    "    return max_sum\n",
    "\n",
    "# Example usage\n",
    "numbers = [-2, 1, -3, 4, -1, 2, 1, -5, 4]\n",
    "max_sum = find_max_subarray_sum(numbers)\n",
    "print(\"Maximum subarray sum:\", max_sum)\n"
   ]
  },
  {
   "cell_type": "code",
   "execution_count": 24,
   "metadata": {},
   "outputs": [
    {
     "name": "stdout",
     "output_type": "stream",
     "text": [
      "String without vowels: Hll, Wrld!\n"
     ]
    }
   ],
   "source": [
    "# 19. Write a program to remove all vowels from a given string.\n",
    "# Answer :-\n",
    "def remove_vowels(string):\n",
    "    vowels = 'aeiouAEIOU'\n",
    "    string_without_vowels = ''\n",
    "\n",
    "    for char in string:\n",
    "        if char not in vowels:\n",
    "            string_without_vowels += char\n",
    "\n",
    "    return string_without_vowels\n",
    "\n",
    "# Example usage\n",
    "input_string = 'Hello, World!'\n",
    "string_without_vowels = remove_vowels(input_string)\n",
    "print(\"String without vowels:\", string_without_vowels)\n"
   ]
  },
  {
   "cell_type": "code",
   "execution_count": 25,
   "metadata": {},
   "outputs": [
    {
     "name": "stdout",
     "output_type": "stream",
     "text": [
      "Reversed sentence: sentence. a is This world! Hello,\n"
     ]
    }
   ],
   "source": [
    "# 20. Implement a function to reverse the order of words in a given sentence.\n",
    "# Answer :-\n",
    "def reverse_words(sentence):\n",
    "    words = sentence.split()\n",
    "    reversed_words = words[::-1]\n",
    "    reversed_sentence = ' '.join(reversed_words)\n",
    "    return reversed_sentence\n",
    "\n",
    "# Example usage\n",
    "input_sentence = 'Hello, world! This is a sentence.'\n",
    "reversed_sentence = reverse_words(input_sentence)\n",
    "print(\"Reversed sentence:\", reversed_sentence)\n"
   ]
  },
  {
   "cell_type": "code",
   "execution_count": 27,
   "metadata": {},
   "outputs": [
    {
     "name": "stdout",
     "output_type": "stream",
     "text": [
      "The strings are anagrams.\n"
     ]
    }
   ],
   "source": [
    "# 21. Write a Python program to check if two strings are anagrams of each other.\n",
    "# Answer :-\n",
    "def are_anagrams(str1, str2):\n",
    "    str1 = str1.lower()\n",
    "    str2 = str2.lower()\n",
    "    \n",
    "    if len(str1) != len(str2):\n",
    "        return False\n",
    "\n",
    "    char_count = {}\n",
    "    \n",
    "    for char in str1:\n",
    "        if char in char_count:\n",
    "            char_count[char] += 1\n",
    "        else:\n",
    "            char_count[char] = 1\n",
    "    \n",
    "    for char in str2:\n",
    "        if char in char_count:\n",
    "            char_count[char] -= 1\n",
    "            if char_count[char] == 0:\n",
    "                del char_count[char]\n",
    "        else:\n",
    "            return False\n",
    "\n",
    "    return len(char_count) == 0\n",
    "\n",
    "# Example usage\n",
    "string1 = \"listen\"\n",
    "string2 = \"silent\"\n",
    "\n",
    "if are_anagrams(string1, string2):\n",
    "    print(\"The strings are anagrams.\")\n",
    "else:\n",
    "    print(\"The strings are not anagrams.\")\n"
   ]
  },
  {
   "cell_type": "code",
   "execution_count": 31,
   "metadata": {},
   "outputs": [
    {
     "name": "stdout",
     "output_type": "stream",
     "text": [
      "First non-repeating character: c\n"
     ]
    }
   ],
   "source": [
    "# 22. Implement a function to find the first non-repeating character in a string.\n",
    "# Answer :-\n",
    "def find_first_non_repeating_char(string):\n",
    "    char_count = {}\n",
    "    \n",
    "    for char in string:\n",
    "        if char in char_count:\n",
    "            char_count[char] += 1\n",
    "        else:\n",
    "            char_count[char] = 1\n",
    "    \n",
    "    for char in string:\n",
    "        if char_count[char] == 1:\n",
    "            return char\n",
    "\n",
    "    return None\n",
    "\n",
    "# Example usage\n",
    "input_string = \"abracadabra\"\n",
    "first_non_repeating_char = find_first_non_repeating_char(input_string)\n",
    "\n",
    "if first_non_repeating_char is not None:\n",
    "    print(\"First non-repeating character:\", first_non_repeating_char)\n",
    "else:\n",
    "    print(\"No non-repeating character found.\")\n",
    "\n",
    "\n"
   ]
  },
  {
   "cell_type": "code",
   "execution_count": 32,
   "metadata": {},
   "outputs": [
    {
     "name": "stdout",
     "output_type": "stream",
     "text": [
      "Prime factors of 84 are: [2, 2, 3, 7]\n"
     ]
    }
   ],
   "source": [
    "# 23. Write a program to find the prime factors of a given number.\n",
    "# Answer :-\n",
    "def find_prime_factors(number):\n",
    "    prime_factors = []\n",
    "    divisor = 2\n",
    "\n",
    "    while divisor <= number:\n",
    "        if number % divisor == 0:\n",
    "            prime_factors.append(divisor)\n",
    "            number //= divisor\n",
    "        else:\n",
    "            divisor += 1\n",
    "\n",
    "    return prime_factors\n",
    "\n",
    "# Example usage\n",
    "input_number = 84\n",
    "prime_factors = find_prime_factors(input_number)\n",
    "print(\"Prime factors of\", input_number, \"are:\", prime_factors)\n",
    "\n"
   ]
  },
  {
   "cell_type": "code",
   "execution_count": 34,
   "metadata": {},
   "outputs": [
    {
     "name": "stdout",
     "output_type": "stream",
     "text": [
      "16 is a power of two.\n"
     ]
    }
   ],
   "source": [
    "# 24. Implement a function to check if a given number is a power of two.\n",
    "# Answer :-\n",
    "def is_power_of_two(number):\n",
    "    if number <= 0:\n",
    "        return False\n",
    "\n",
    "    while number > 1:\n",
    "        if number % 2 != 0:\n",
    "            return False\n",
    "        number //= 2\n",
    "\n",
    "    return True\n",
    "\n",
    "# Example usage\n",
    "input_number = 16\n",
    "if is_power_of_two(input_number):\n",
    "    print(input_number, \"is a power of two.\")\n",
    "else:\n",
    "    print(input_number, \"is not a power of two.\")\n",
    "\n"
   ]
  },
  {
   "cell_type": "code",
   "execution_count": 35,
   "metadata": {},
   "outputs": [
    {
     "name": "stdout",
     "output_type": "stream",
     "text": [
      "Merged list: [1, 2, 3, 4, 5, 6, 7, 8]\n"
     ]
    }
   ],
   "source": [
    "# 25. Write a Python program to merge two sorted lists into a single sorted list.\n",
    "# Answer :-\n",
    "def merge_sorted_lists(list1, list2):\n",
    "    merged_list = []\n",
    "    i = 0  # Index for list1\n",
    "    j = 0  # Index for list2\n",
    "\n",
    "    while i < len(list1) and j < len(list2):\n",
    "        if list1[i] < list2[j]:\n",
    "            merged_list.append(list1[i])\n",
    "            i += 1\n",
    "        else:\n",
    "            merged_list.append(list2[j])\n",
    "            j += 1\n",
    "\n",
    "    # Append remaining elements from list1, if any\n",
    "    while i < len(list1):\n",
    "        merged_list.append(list1[i])\n",
    "        i += 1\n",
    "\n",
    "    # Append remaining elements from list2, if any\n",
    "    while j < len(list2):\n",
    "        merged_list.append(list2[j])\n",
    "        j += 1\n",
    "\n",
    "    return merged_list\n",
    "\n",
    "# Example usage\n",
    "list1 = [1, 3, 5, 7]\n",
    "list2 = [2, 4, 6, 8]\n",
    "merged_list = merge_sorted_lists(list1, list2)\n",
    "print(\"Merged list:\", merged_list)\n",
    "\n"
   ]
  },
  {
   "cell_type": "code",
   "execution_count": 36,
   "metadata": {},
   "outputs": [
    {
     "name": "stdout",
     "output_type": "stream",
     "text": [
      "Mode: 3\n"
     ]
    }
   ],
   "source": [
    "# 26. Implement a function to find the mode of a list of numbers.\n",
    "# Answer :-\n",
    "from collections import Counter\n",
    "\n",
    "def find_mode(numbers):\n",
    "    counter = Counter(numbers)\n",
    "    mode = counter.most_common(1)[0][0]\n",
    "    return mode\n",
    "\n",
    "# Example usage\n",
    "number_list = [1, 2, 3, 2, 4, 3, 3, 4, 4, 5]\n",
    "mode = find_mode(number_list)\n",
    "print(\"Mode:\", mode)\n",
    "\n"
   ]
  },
  {
   "cell_type": "code",
   "execution_count": 38,
   "metadata": {},
   "outputs": [
    {
     "name": "stdout",
     "output_type": "stream",
     "text": [
      "GCD of 24 and 36 is: 12\n"
     ]
    }
   ],
   "source": [
    "# 27. Write a program to find the greatest common divisor (GCD) of two numbers.\n",
    "# Answer :-\n",
    "def find_gcd(a, b):\n",
    "    while b != 0:\n",
    "        a, b = b, a % b\n",
    "    return a\n",
    "\n",
    "# Example usage\n",
    "num1 = 24\n",
    "num2 = 36\n",
    "gcd = find_gcd(num1, num2)\n",
    "print(\"GCD of\", num1, \"and\", num2, \"is:\", gcd)\n"
   ]
  },
  {
   "cell_type": "code",
   "execution_count": 39,
   "metadata": {},
   "outputs": [
    {
     "name": "stdout",
     "output_type": "stream",
     "text": [
      "Square root of 16 is: 4.0000001858445895\n"
     ]
    }
   ],
   "source": [
    "# 28. Implement a function to calculate the square root of a given number.\n",
    "# Answer :-\n",
    "def calculate_square_root(number, precision=0.0001):\n",
    "    if number < 0:\n",
    "        raise ValueError(\"Square root is not defined for negative numbers.\")\n",
    "    if number == 0:\n",
    "        return 0\n",
    "\n",
    "    guess = number / 2\n",
    "    while abs(guess * guess - number) > precision:\n",
    "        guess = (guess + number / guess) / 2\n",
    "\n",
    "    return guess\n",
    "\n",
    "# Example usage\n",
    "input_number = 16\n",
    "square_root = calculate_square_root(input_number)\n",
    "print(\"Square root of\", input_number, \"is:\", square_root)\n"
   ]
  },
  {
   "cell_type": "code",
   "execution_count": 40,
   "metadata": {},
   "outputs": [
    {
     "name": "stdout",
     "output_type": "stream",
     "text": [
      "The string is a valid palindrome.\n"
     ]
    }
   ],
   "source": [
    "# 29. Write a Python program to check if a given string is a valid palindrome ignoring non-alphanumeric characters.\n",
    "# Answer:-\n",
    "import re\n",
    "\n",
    "def is_valid_palindrome(string):\n",
    "    # Remove non-alphanumeric characters\n",
    "    alphanumeric_string = re.sub(r'[^a-zA-Z0-9]', '', string)\n",
    "\n",
    "    # Convert to lowercase for case-insensitive comparison\n",
    "    alphanumeric_string = alphanumeric_string.lower()\n",
    "\n",
    "    # Check if the alphanumeric string is a palindrome\n",
    "    return alphanumeric_string == alphanumeric_string[::-1]\n",
    "\n",
    "# Example usage\n",
    "input_string = \"A man, a plan, a canal: Panama\"\n",
    "if is_valid_palindrome(input_string):\n",
    "    print(\"The string is a valid palindrome.\")\n",
    "else:\n",
    "    print(\"The string is not a valid palindrome.\")\n",
    "\n"
   ]
  },
  {
   "cell_type": "code",
   "execution_count": 41,
   "metadata": {},
   "outputs": [
    {
     "name": "stdout",
     "output_type": "stream",
     "text": [
      "Minimum element: 0\n"
     ]
    }
   ],
   "source": [
    "# 30. Implement a function to find the minimum element in a rotated sorted list.\n",
    "# Answer :-\n",
    "def find_minimum_element(nums):\n",
    "    left = 0\n",
    "    right = len(nums) - 1\n",
    "\n",
    "    while left < right:\n",
    "        mid = left + (right - left) // 2\n",
    "\n",
    "        if nums[mid] > nums[right]:\n",
    "            left = mid + 1\n",
    "        else:\n",
    "            right = mid\n",
    "\n",
    "    return nums[left]\n",
    "\n",
    "# Example usage\n",
    "rotated_list = [4, 5, 6, 7, 0, 1, 2]\n",
    "minimum_element = find_minimum_element(rotated_list)\n",
    "print(\"Minimum element:\", minimum_element)\n"
   ]
  },
  {
   "cell_type": "code",
   "execution_count": 45,
   "metadata": {},
   "outputs": [
    {
     "name": "stdout",
     "output_type": "stream",
     "text": [
      "Sum of even numbers: 30\n"
     ]
    }
   ],
   "source": [
    "# 31. Write a program to find the sum of all even numbers in a list.\n",
    "# Answer :-\n",
    "def sum_of_even_numbers(numbers):\n",
    "    even_sum = 0\n",
    "\n",
    "    for num in numbers:\n",
    "        if num % 2 == 0:\n",
    "            even_sum += num\n",
    "\n",
    "    return even_sum\n",
    "\n",
    "# Example usage\n",
    "number_list = [1, 2, 3, 4, 5, 6, 7, 8, 9, 10]\n",
    "even_sum = sum_of_even_numbers(number_list)\n",
    "print(\"Sum of even numbers:\", even_sum)\n"
   ]
  },
  {
   "cell_type": "code",
   "execution_count": 50,
   "metadata": {},
   "outputs": [
    {
     "name": "stdout",
     "output_type": "stream",
     "text": [
      "2 raised to the power of 5 is: 32\n"
     ]
    }
   ],
   "source": [
    "# 32. Implement a function to calculate the power of a number using recursion.\n",
    "# Answer :-\n",
    "def power(base, exponent):\n",
    "    if exponent == 0:\n",
    "        return 1\n",
    "    elif exponent < 0:\n",
    "        return 1 / power(base, -exponent)\n",
    "    elif exponent % 2 == 0:\n",
    "        half_power = power(base, exponent // 2)\n",
    "        return half_power * half_power\n",
    "    else:\n",
    "        return base * power(base, exponent - 1)\n",
    "\n",
    "# Example usage\n",
    "base = 2\n",
    "exponent = 5\n",
    "result = power(base, exponent)\n",
    "print(base, \"raised to the power of\", exponent, \"is:\", result)\n",
    "\n"
   ]
  },
  {
   "cell_type": "code",
   "execution_count": 49,
   "metadata": {},
   "outputs": [
    {
     "name": "stdout",
     "output_type": "stream",
     "text": [
      "List with duplicates removed: [1, 3, 2, 5, 6]\n"
     ]
    }
   ],
   "source": [
    "# 33. Write a Python program to remove duplicates from a list while preserving the order.\n",
    "# Answer :-\n",
    "def remove_duplicates_preserve_order(lst):\n",
    "    seen = set()\n",
    "    result = []\n",
    "\n",
    "    for item in lst:\n",
    "        if item not in seen:\n",
    "            seen.add(item)\n",
    "            result.append(item)\n",
    "\n",
    "    return result\n",
    "\n",
    "# Example usage\n",
    "my_list = [1, 3, 2, 2, 1, 5, 6, 5]\n",
    "new_list = remove_duplicates_preserve_order(my_list)\n",
    "print(\"List with duplicates removed:\", new_list)\n",
    "\n"
   ]
  },
  {
   "cell_type": "code",
   "execution_count": 51,
   "metadata": {},
   "outputs": [
    {
     "name": "stdout",
     "output_type": "stream",
     "text": [
      "Longest common prefix: fl\n"
     ]
    }
   ],
   "source": [
    "# 34. Implement a function to find the longest common prefix among a list of strings.\n",
    "# Answer :-\n",
    "def longest_common_prefix(strs):\n",
    "    if not strs:\n",
    "        return \"\"\n",
    "\n",
    "    # Find the minimum length string in the list\n",
    "    min_len = min(len(s) for s in strs)\n",
    "\n",
    "    # Iterate over characters up to the minimum length\n",
    "    for i in range(min_len):\n",
    "        # Check if all characters at the current index are the same\n",
    "        if not all(s[i] == strs[0][i] for s in strs):\n",
    "            # Return the prefix up to the current index\n",
    "            return strs[0][:i]\n",
    "\n",
    "    # Return the common prefix up to the minimum length\n",
    "    return strs[0][:min_len]\n",
    "\n",
    "# Example usage\n",
    "string_list = [\"flower\", \"flow\", \"flight\"]\n",
    "common_prefix = longest_common_prefix(string_list)\n",
    "print(\"Longest common prefix:\", common_prefix)\n",
    "\n"
   ]
  },
  {
   "cell_type": "code",
   "execution_count": 52,
   "metadata": {},
   "outputs": [
    {
     "name": "stdout",
     "output_type": "stream",
     "text": [
      "16 is a perfect square: True\n"
     ]
    }
   ],
   "source": [
    "# 35. Write a program to check if a given number is a perfect square.\n",
    "# Answer :-\n",
    "def is_perfect_square(num):\n",
    "    if num < 0:\n",
    "        return False\n",
    "\n",
    "    # Using the property that perfect squares are odd or even powers of 2\n",
    "    root = int(num ** 0.5)\n",
    "    return root * root == num\n",
    "\n",
    "# Example usage\n",
    "number = 16\n",
    "is_square = is_perfect_square(number)\n",
    "print(number, \"is a perfect square:\", is_square)\n",
    "\n"
   ]
  },
  {
   "cell_type": "code",
   "execution_count": 53,
   "metadata": {},
   "outputs": [
    {
     "name": "stdout",
     "output_type": "stream",
     "text": [
      "Product of the numbers: 120\n"
     ]
    }
   ],
   "source": [
    "# 36. Implement a function to calculate the product of all elements in a list.\n",
    "# Answer :-\n",
    "def calculate_product(numbers):\n",
    "    product = 1\n",
    "\n",
    "    for num in numbers:\n",
    "        product *= num\n",
    "\n",
    "    return product\n",
    "\n",
    "# Example usage\n",
    "number_list = [1, 2, 3, 4, 5]\n",
    "product = calculate_product(number_list)\n",
    "print(\"Product of the numbers:\", product)\n",
    "\n"
   ]
  },
  {
   "cell_type": "code",
   "execution_count": 54,
   "metadata": {},
   "outputs": [
    {
     "name": "stdout",
     "output_type": "stream",
     "text": [
      "Reversed sentence: you? are how Hello,\n"
     ]
    }
   ],
   "source": [
    "# 37. Write a Python program to reverse the order of words in a sentence while preserving the word order.\n",
    "# Answer :-\n",
    "def reverse_sentence(sentence):\n",
    "    words = sentence.split()\n",
    "    reversed_words = words[::-1]\n",
    "    reversed_sentence = \" \".join(reversed_words)\n",
    "    return reversed_sentence\n",
    "\n",
    "# Example usage\n",
    "input_sentence = \"Hello, how are you?\"\n",
    "reversed_sentence = reverse_sentence(input_sentence)\n",
    "print(\"Reversed sentence:\", reversed_sentence)\n"
   ]
  },
  {
   "cell_type": "code",
   "execution_count": 55,
   "metadata": {},
   "outputs": [],
   "source": [
    "# 38. Implement a function to find the missing number in a given list of consecutive numbers.\n",
    "# Answer :-\n"
   ]
  },
  {
   "cell_type": "code",
   "execution_count": 57,
   "metadata": {},
   "outputs": [
    {
     "name": "stdout",
     "output_type": "stream",
     "text": [
      "Sum of digits: 15\n"
     ]
    }
   ],
   "source": [
    "# 39. Write a program to find the sum of digits of a given number.\n",
    "# Answer :-\n",
    "def sum_of_digits(number):\n",
    "    sum = 0\n",
    "\n",
    "    # Convert the number to a positive integer\n",
    "    number = abs(number)\n",
    "\n",
    "    # Calculate the sum of digits\n",
    "    while number > 0:\n",
    "        digit = number % 10\n",
    "        sum += digit\n",
    "        number //= 10\n",
    "\n",
    "    return sum\n",
    "\n",
    "# Example usage\n",
    "num = 12345\n",
    "digit_sum = sum_of_digits(num)\n",
    "print(\"Sum of digits:\", digit_sum)\n",
    "\n"
   ]
  },
  {
   "cell_type": "code",
   "execution_count": 62,
   "metadata": {},
   "outputs": [],
   "source": [
    "# 40. Implement a function to check if a given string is a valid palindrome considering case sensitivity.\n",
    "# Answer :-\n",
    "def is_valid_palindrome(string):\n",
    "    # Remove any non-alphanumeric characters from the string\n",
    "    alphanumeric_string = ''.join(char.lower() for char in string if char.isalnum())\n",
    "\n",
    "    # Check if the alphanumeric string is equal to its reverse\n",
    "    return alphanumeric_string == alphanumeric_string[::-1]\n",
    "\n"
   ]
  },
  {
   "cell_type": "code",
   "execution_count": 63,
   "metadata": {},
   "outputs": [],
   "source": [
    "# 41. Write a Python program to find the smallest missing positive integer in a list.\n",
    "# Answer :-\n",
    "def find_smallest_missing_positive(nums):\n",
    "    # Separate positive numbers from the list\n",
    "    positive_nums = set(num for num in nums if num > 0)\n",
    "\n",
    "    # Find the smallest missing positive integer\n",
    "    smallest_missing = 1\n",
    "    while smallest_missing in positive_nums:\n",
    "        smallest_missing += 1\n",
    "\n",
    "    return smallest_missing\n",
    "\n"
   ]
  },
  {
   "cell_type": "code",
   "execution_count": 65,
   "metadata": {},
   "outputs": [],
   "source": [
    "# 42. Implement a function to find the longest palindrome substring in a given string.\n",
    "# Answer :-\n",
    "def longest_palindrome_substring(s):\n",
    "    # Initialize variables for tracking the longest palindrome substring\n",
    "    start = 0\n",
    "    end = 0\n",
    "\n",
    "    # Iterate over each character in the string\n",
    "    for i in range(len(s)):\n",
    "        # Check for odd-length palindromes centered at index i\n",
    "        len_odd = expand_around_center(s, i, i)\n",
    "        # Check for even-length palindromes centered at indices i and i+1\n",
    "        len_even = expand_around_center(s, i, i + 1)\n",
    "\n",
    "        # Update start and end indices if a longer palindrome is found\n",
    "        max_len = max(len_odd, len_even)\n",
    "        if max_len > end - start:\n",
    "            start = i - (max_len - 1) // 2\n",
    "            end = i + max_len // 2\n",
    "\n",
    "    # Return the longest palindrome substring\n",
    "    return s[start:end+1]\n",
    "\n",
    "\n",
    "def expand_around_center(s, left, right):\n",
    "    # Expand around the center character(s) of the potential palindrome substring\n",
    "    while left >= 0 and right < len(s) and s[left] == s[right]:\n",
    "        left -= 1\n",
    "        right += 1\n",
    "\n",
    "    # Return the length of the palindrome substring\n",
    "    return right - left - 1\n",
    "\n"
   ]
  },
  {
   "cell_type": "code",
   "execution_count": 70,
   "metadata": {},
   "outputs": [],
   "source": [
    "# 43. Write a program to find the number of occurrences of a given element in a list.\n",
    "# Answer :-\n",
    "def count_occurrences(lst, element):\n",
    "    count = 0\n",
    "\n",
    "    for item in lst:\n",
    "        if item == element:\n",
    "            count += 1\n",
    "\n",
    "    return count\n",
    "\n"
   ]
  },
  {
   "cell_type": "code",
   "execution_count": 72,
   "metadata": {},
   "outputs": [],
   "source": [
    "# 44. Implement a function to check if a given number is a perfect number.\n",
    "# Answer :-\n",
    "def is_perfect_number(number):\n",
    "    if number <= 0:\n",
    "        return False\n",
    "\n",
    "    divisor_sum = 0\n",
    "    for i in range(1, number):\n",
    "        if number % i == 0:\n",
    "            divisor_sum += i\n",
    "\n",
    "    return divisor_sum == number\n",
    "\n"
   ]
  },
  {
   "cell_type": "code",
   "execution_count": 69,
   "metadata": {},
   "outputs": [],
   "source": [
    "# 45. Write a Python program to remove all duplicates from a string.\n",
    "# Answer :-\n",
    "def remove_duplicates(string):\n",
    "    # Create an empty set to store unique characters\n",
    "    unique_chars = set()\n",
    "\n",
    "    # Create a new string by appending non-duplicate characters\n",
    "    new_string = \"\"\n",
    "    for char in string:\n",
    "        if char not in unique_chars:\n",
    "            unique_chars.add(char)\n",
    "            new_string += char\n",
    "\n",
    "    return new_string\n",
    "\n"
   ]
  },
  {
   "cell_type": "code",
   "execution_count": 71,
   "metadata": {},
   "outputs": [],
   "source": [
    "# 46. Implement a function to find the first missing positive.\n",
    "# Answer :-\n",
    "def find_first_missing_positive(nums):\n",
    "    n = len(nums)\n",
    "\n",
    "    # Step 1: Replace non-positive numbers with a placeholder value (n+1)\n",
    "    for i in range(n):\n",
    "        if nums[i] <= 0 or nums[i] > n:\n",
    "            nums[i] = n + 1\n",
    "\n",
    "    # Step 2: Mark indices of positive numbers as visited\n",
    "    for i in range(n):\n",
    "        num = abs(nums[i])\n",
    "        if num <= n:\n",
    "            nums[num-1] = -abs(nums[num-1])\n",
    "\n",
    "    # Step 3: Find the first unmarked index (+1) which indicates the missing positive\n",
    "    for i in range(n):\n",
    "        if nums[i] > 0:\n",
    "            return i + 1\n",
    "\n",
    "    # Step 4: If all indices are marked, return n+1 as the missing positive\n",
    "    return n + 1\n"
   ]
  },
  {
   "cell_type": "code",
   "execution_count": null,
   "metadata": {},
   "outputs": [],
   "source": []
  }
 ],
 "metadata": {
  "kernelspec": {
   "display_name": "Python 3",
   "language": "python",
   "name": "python3"
  },
  "language_info": {
   "codemirror_mode": {
    "name": "ipython",
    "version": 3
   },
   "file_extension": ".py",
   "mimetype": "text/x-python",
   "name": "python",
   "nbconvert_exporter": "python",
   "pygments_lexer": "ipython3",
   "version": "3.10.11"
  },
  "orig_nbformat": 4
 },
 "nbformat": 4,
 "nbformat_minor": 2
}
